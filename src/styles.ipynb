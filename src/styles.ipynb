{
 "cells": [
  {
   "cell_type": "code",
   "execution_count": 1,
   "metadata": {},
   "outputs": [],
   "source": [
    "import os"
   ]
  },
  {
   "cell_type": "code",
   "execution_count": 9,
   "metadata": {},
   "outputs": [
    {
     "name": "stdout",
     "output_type": "stream",
     "text": [
      "Current directory: ./assets/styles/vendors/syncfusion\n",
      "Current directory: ./assets/styles/vendors/syncfusion\\base\n",
      "Current directory: ./assets/styles/vendors/syncfusion\\buttons\n",
      "Current directory: ./assets/styles/vendors/syncfusion\\calendars\n",
      "Current directory: ./assets/styles/vendors/syncfusion\\documenteditor\n",
      "Current directory: ./assets/styles/vendors/syncfusion\\dropdowns\n",
      "Current directory: ./assets/styles/vendors/syncfusion\\filemanager\n",
      "Current directory: ./assets/styles/vendors/syncfusion\\gantt\n",
      "Current directory: ./assets/styles/vendors/syncfusion\\grids\n",
      "Current directory: ./assets/styles/vendors/syncfusion\\image-editor\n",
      "Current directory: ./assets/styles/vendors/syncfusion\\inplace-editor\n",
      "Current directory: ./assets/styles/vendors/syncfusion\\inputs\n",
      "Current directory: ./assets/styles/vendors/syncfusion\\kanban\n",
      "Current directory: ./assets/styles/vendors/syncfusion\\layouts\n",
      "Current directory: ./assets/styles/vendors/syncfusion\\lists\n",
      "Current directory: ./assets/styles/vendors/syncfusion\\navigations\n",
      "Current directory: ./assets/styles/vendors/syncfusion\\notifications\n",
      "Current directory: ./assets/styles/vendors/syncfusion\\pdfviewer\n",
      "Current directory: ./assets/styles/vendors/syncfusion\\pivotview\n",
      "Current directory: ./assets/styles/vendors/syncfusion\\popups\n",
      "Current directory: ./assets/styles/vendors/syncfusion\\querybuilder\n",
      "Current directory: ./assets/styles/vendors/syncfusion\\ribbon\n",
      "Current directory: ./assets/styles/vendors/syncfusion\\richtexteditor\n",
      "Current directory: ./assets/styles/vendors/syncfusion\\schedule\n",
      "Current directory: ./assets/styles/vendors/syncfusion\\splitbuttons\n",
      "Current directory: ./assets/styles/vendors/syncfusion\\spreadsheet\n",
      "Current directory: ./assets/styles/vendors/syncfusion\\treegrid\n"
     ]
    }
   ],
   "source": [
    "path = \"./assets/styles/vendors/syncfusion\"\n",
    "for root, dirs, files in os.walk(path):\n",
    "    print(f'Current directory: {root}')\n",
    "    with open(f\"{root}/overrides.scss\", 'w') as f:\n",
    "        f.write('\\n')\n",
    "    f.close()\n",
    "    with open(f\"{root}/index.scss\",'w')as f:\n",
    "        for dir in dirs:\n",
    "            f.write(f'@import \"./{dir}\";\\n')\n",
    "        for file in files:\n",
    "            if file != 'index.scss' and file != 'overrides.scss':\n",
    "                f.write(f'@import \"./{file}\";\\n')\n",
    "        f.write(\"@import './overrides.scss';\\n\")\n",
    "    f.close()\n"
   ]
  },
  {
   "cell_type": "code",
   "execution_count": null,
   "metadata": {},
   "outputs": [],
   "source": []
  }
 ],
 "metadata": {
  "kernelspec": {
   "display_name": "Python 3",
   "language": "python",
   "name": "python3"
  },
  "language_info": {
   "codemirror_mode": {
    "name": "ipython",
    "version": 3
   },
   "file_extension": ".py",
   "mimetype": "text/x-python",
   "name": "python",
   "nbconvert_exporter": "python",
   "pygments_lexer": "ipython3",
   "version": "3.11.4"
  }
 },
 "nbformat": 4,
 "nbformat_minor": 2
}
